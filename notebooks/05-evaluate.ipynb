{
 "cells": [
  {
   "cell_type": "code",
   "execution_count": 90,
   "metadata": {},
   "outputs": [],
   "source": [
    "import os\n",
    "%run {os.path.join('..', 'src', 'utils.py')}"
   ]
  },
  {
   "cell_type": "code",
   "execution_count": 91,
   "metadata": {},
   "outputs": [],
   "source": [
    "#read our dataset\n",
    "rfm_segmentation = pd.read_csv(os.path.join(\"..\",\"data\",\"rfm_segmentation.csv\"))"
   ]
  },
  {
   "cell_type": "code",
   "execution_count": null,
   "metadata": {},
   "outputs": [],
   "source": [
    "#let's evaluate our dataset\n",
    "rfm_segmentation.groupby('RFM Score').agg({\n",
    "'Recency': ['mean','min','max','count'],\n",
    "'Frequency': ['mean','min','max','count'],\n",
    "'Monetary': ['mean','min','max','count'] }).round(1).head()"
   ]
  },
  {
   "attachments": {},
   "cell_type": "markdown",
   "metadata": {},
   "source": [
    "#### These values can always be changed according to the marketing teams wishes\n",
    "### Scoring Values For Recency\n",
    "#### 4 - Tazecik\n",
    "#### 3 - İletişimdeyiz\n",
    "#### 2 - Gönlümüzdeler\n",
    "#### 1 - Haber Yok\n",
    "\n",
    "### Scoring Values For Frequency\n",
    "#### 4 - Sürekli\n",
    "#### 3 - Mükerrer\n",
    "#### 2 - Arada Sırada \n",
    "#### 1 - Nadiren\n",
    "\n",
    "### Scoring Values For Monetary\n",
    "#### 4 - Platinum\n",
    "#### 3 - Gold\n",
    "#### 2 - Silver\n",
    "#### 1 - Bronze"
   ]
  },
  {
   "cell_type": "code",
   "execution_count": null,
   "metadata": {},
   "outputs": [],
   "source": [
    "# Encoding data with Business logic\n",
    "rfm_segmentation.R_Quartile[rfm_segmentation.R_Quartile == 1] = 'Haber Yok'\n",
    "rfm_segmentation.R_Quartile[rfm_segmentation.R_Quartile == 2] = 'Gönlümüzdeler'\n",
    "rfm_segmentation.R_Quartile[rfm_segmentation.R_Quartile == 3] = 'İletişimdeyiz'\n",
    "rfm_segmentation.R_Quartile[rfm_segmentation.R_Quartile == 4] = 'Tazecik'\n",
    "rfm_segmentation.F_Quartile[rfm_segmentation.F_Quartile == 1] = 'Nadiren'\n",
    "rfm_segmentation.F_Quartile[rfm_segmentation.F_Quartile == 2] = 'Arada Sırada'\n",
    "rfm_segmentation.F_Quartile[rfm_segmentation.F_Quartile == 3] = 'Mükerrer'\n",
    "rfm_segmentation.F_Quartile[rfm_segmentation.F_Quartile == 4] = 'Sürekli'\n",
    "rfm_segmentation.M_Quartile[rfm_segmentation.M_Quartile == 1] = 'Bronze'\n",
    "rfm_segmentation.M_Quartile[rfm_segmentation.M_Quartile == 2] = 'Silver'\n",
    "rfm_segmentation.M_Quartile[rfm_segmentation.M_Quartile == 3] = 'Gold'\n",
    "rfm_segmentation.M_Quartile[rfm_segmentation.M_Quartile == 4] = 'Platinum'\n"
   ]
  },
  {
   "cell_type": "code",
   "execution_count": null,
   "metadata": {},
   "outputs": [],
   "source": [
    "Seg_score = rfm_segmentation[['CustomerID','RFMScore','RFMScore_num']].copy()\n",
    "Seg_score[\"Customer_class\"] = rfm_segmentation['R_Quartile'].astype(str) +\"-\"+ rfm_segmentation[\"F_Quartile\"]+\"-\"+ rfm_segmentation[\"M_Quartile\"]"
   ]
  },
  {
   "cell_type": "code",
   "execution_count": null,
   "metadata": {},
   "outputs": [],
   "source": [
    "Seg_score['RFMScore'].value_counts().plot.bar(figsize=(12, 6))"
   ]
  },
  {
   "cell_type": "code",
   "execution_count": null,
   "metadata": {},
   "outputs": [],
   "source": [
    "Seg_score['RFMScore_num'].value_counts().sort_index().plot.bar(figsize=(12, 6))"
   ]
  },
  {
   "attachments": {},
   "cell_type": "markdown",
   "metadata": {},
   "source": [
    "### Scoring Values For RFM Scores\n",
    "\n",
    "#### 3-4 No Hope\n",
    "#### 5-6-7 Has Potential\n",
    "#### 8-9-10 Bright Future\n",
    "#### 11-12 Elite / Premium\n"
   ]
  },
  {
   "cell_type": "code",
   "execution_count": null,
   "metadata": {},
   "outputs": [],
   "source": [
    "Seg_score['RFMScore_numb'] = Seg_score.loc[:, 'RFMScore_num']\n",
    "Seg_score.RFMScore_num[Seg_score.RFMScore_num == 3] = 'No Hope'\n",
    "Seg_score.RFMScore_num[Seg_score.RFMScore_num == 4] = 'No Hope'\n",
    "Seg_score.RFMScore_num[Seg_score.RFMScore_num == 5] = 'Has Potential'\n",
    "Seg_score.RFMScore_num[Seg_score.RFMScore_num == 6] = 'Has Potential'\n",
    "Seg_score.RFMScore_num[Seg_score.RFMScore_num == 7] = 'Has Potential'\n",
    "Seg_score.RFMScore_num[Seg_score.RFMScore_num == 8] = 'Bright Future'\n",
    "Seg_score.RFMScore_num[Seg_score.RFMScore_num == 9] = 'Bright Future'\n",
    "Seg_score.RFMScore_num[Seg_score.RFMScore_num == 10] = 'Bright Future'\n",
    "Seg_score.RFMScore_num[Seg_score.RFMScore_num == 11] = 'Elite'\n",
    "Seg_score.RFMScore_num[Seg_score.RFMScore_num == 12] = 'Elite'"
   ]
  },
  {
   "cell_type": "code",
   "execution_count": null,
   "metadata": {},
   "outputs": [],
   "source": [
    "Seg_score.rename(columns = {'RFMScore_num':'RFMScore_cat'}, inplace = True)"
   ]
  },
  {
   "cell_type": "code",
   "execution_count": null,
   "metadata": {},
   "outputs": [],
   "source": [
    "Seg_score['Customer_class'].value_counts().plot.bar(figsize=(12, 6))"
   ]
  },
  {
   "cell_type": "code",
   "execution_count": null,
   "metadata": {},
   "outputs": [],
   "source": [
    "Seg_score['RFMScore_cat'].value_counts().plot.bar(figsize=(12, 6))"
   ]
  },
  {
   "cell_type": "code",
   "execution_count": null,
   "metadata": {},
   "outputs": [],
   "source": [
    "Seg_score.head()"
   ]
  },
  {
   "cell_type": "code",
   "execution_count": 93,
   "metadata": {},
   "outputs": [
    {
     "name": "stdout",
     "output_type": "stream",
     "text": [
      "action is completed\n"
     ]
    }
   ],
   "source": [
    "# Saving result into the DB\n",
    "if table_exists(\"staging\",\"DUGUN_DS\",\"RFM_segmentation\") == True:\n",
    "    print(\"Table exist, adding data to table\")\n",
    "    write_to_db(os.path.join(\"..\",\"data\",\"RFM_segmentation.csv\"),\"staging\",\"DUGUN_DS\",\"RFM_segmentation\")\n",
    "elif table_exists(\"staging\",\"DUGUN_DS\",\"RFM_segmentation\") == False:\n",
    "    print(\"Table os not exist, Creating table and adding data to table\")\n",
    "    #create_table(\"staging\",\"DUGUN_DS\")\n",
    "    write_to_db(os.path.join(\"..\",\"data\",\"RFM_segmentation.csv\"),\"staging\",\"DUGUN_DS\",\"RFM_segmentation\")"
   ]
  }
 ],
 "metadata": {
  "kernelspec": {
   "display_name": "Python 3",
   "language": "python",
   "name": "python3"
  },
  "language_info": {
   "codemirror_mode": {
    "name": "ipython",
    "version": 3
   },
   "file_extension": ".py",
   "mimetype": "text/x-python",
   "name": "python",
   "nbconvert_exporter": "python",
   "pygments_lexer": "ipython3",
   "version": "3.10.7"
  },
  "orig_nbformat": 4
 },
 "nbformat": 4,
 "nbformat_minor": 2
}
