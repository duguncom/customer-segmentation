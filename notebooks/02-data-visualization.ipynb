{
 "cells": [
  {
   "attachments": {},
   "cell_type": "markdown",
   "metadata": {},
   "source": [
    "### Data visualization with Sweetviz\n",
    "##### Sweetviz is an open-source Python library that generates beautiful, high-density visualizations to kickstart EDA (Exploratory Data Analysis) with just two lines of code. Output is a fully self-contained HTML application. To visualize our main dataframes we will use this library"
   ]
  },
  {
   "cell_type": "code",
   "execution_count": 1,
   "metadata": {},
   "outputs": [],
   "source": [
    "import os\n",
    "#Loading utils for required funcs\n",
    "%run {os.path.join('..', 'src', 'utils.py')}\n",
    "import sweetviz"
   ]
  },
  {
   "cell_type": "code",
   "execution_count": 5,
   "metadata": {},
   "outputs": [],
   "source": [
    "# Creating files list\n",
    "directory = config.DATA_DIR # Path to data folder\n",
    "csv_names= []\n",
    "csv_list = [f for f in os.listdir(directory) if f.endswith(\"csv\")]\n",
    "for i in range(len(csv_list)):\n",
    "    csv_names.append(str(csv_list[i]).rsplit( \".\", 1 )[ 0 ])"
   ]
  },
  {
   "cell_type": "code",
   "execution_count": null,
   "metadata": {},
   "outputs": [],
   "source": [
    "# Creating data analysis document for each Dataframe\n",
    "import traceback\n",
    "data_path = config.DATA_DIR\n",
    "output_path = os.path.join(\"..\",\"data\",\"visualization-outputs\")\n",
    "i=0\n",
    "for filename in os.listdir(data_path):\n",
    "        f = os.path.join(data_path, filename)\n",
    "        data = pd.read_csv(f)\n",
    "        try:\n",
    "                my_report  = sweetviz.analyze(data,target_feat=None)  \n",
    "                my_report.show_html(os.path.join(output_path, f'{filename}.html'))\n",
    "                i+=1\n",
    "        except PermissionError:\n",
    "                pass"
   ]
  }
 ],
 "metadata": {
  "kernelspec": {
   "display_name": "Python 3",
   "language": "python",
   "name": "python3"
  },
  "language_info": {
   "codemirror_mode": {
    "name": "ipython",
    "version": 3
   },
   "file_extension": ".py",
   "mimetype": "text/x-python",
   "name": "python",
   "nbconvert_exporter": "python",
   "pygments_lexer": "ipython3",
   "version": "3.10.7"
  },
  "orig_nbformat": 4
 },
 "nbformat": 4,
 "nbformat_minor": 2
}
