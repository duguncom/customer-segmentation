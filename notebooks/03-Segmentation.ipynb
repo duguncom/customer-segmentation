{
  "cells": [
    {
      "cell_type": "code",
      "execution_count": 14,
      "metadata": {
        "colab": {
          "base_uri": "https://localhost:8080/"
        },
        "id": "OX4jmyNSdvef",
        "outputId": "b99abca8-6cb9-49df-c380-aae39d879fd8"
      },
      "outputs": [],
      "source": [
        "import sys\n",
        "import os\n",
        "import datetime\n",
        "import numpy as np\n",
        "#Loading utils for required funcs\n",
        "%run {os.path.join('..', 'src', 'utils.py')}"
      ]
    },
    {
      "attachments": {},
      "cell_type": "markdown",
      "metadata": {},
      "source": [
        "## RFM\n",
        "##### Recency, Frequency, Monetary value (RFM) is a model used in marketing analysis that segments a company's consumer base by their purchasing patterns or habits. In particular, it evaluates customers Recency (how long ago they made a purchase), Frequency (how often they make purchases), and Monetary value (how much money they spend).\n"
      ]
    },
    {
      "cell_type": "code",
      "execution_count": 15,
      "metadata": {},
      "outputs": [],
      "source": [
        "#read our dataset\n",
        "rfm_data = pd.read_csv(os.path.join(\"..\",\"data\",\"potentials.csv\"))"
      ]
    },
    {
      "cell_type": "code",
      "execution_count": 16,
      "metadata": {},
      "outputs": [],
      "source": [
        "# Boolean condition to filter rows\n",
        "condition = (rfm_data['is_promotion'] != 1) & (rfm_data['current_products_price'] > 0) & (rfm_data['membership_length'] > 0)\n",
        "\n",
        "# Filter the DataFrame based on the condition\n",
        "rfm_data = rfm_data[condition].copy()"
      ]
    },
    {
      "cell_type": "code",
      "execution_count": 17,
      "metadata": {},
      "outputs": [],
      "source": [
        "#filling the NaN budget_value with 1\n",
        "rfm_data['budget_value'].fillna(1, inplace=True)"
      ]
    },
    {
      "attachments": {},
      "cell_type": "markdown",
      "metadata": {},
      "source": [
        "###  Step 1 - > Recency"
      ]
    },
    {
      "cell_type": "code",
      "execution_count": 18,
      "metadata": {},
      "outputs": [],
      "source": [
        "#we will count information until today\n",
        "reference_date = datetime.datetime.today().date()"
      ]
    },
    {
      "cell_type": "code",
      "execution_count": 19,
      "metadata": {},
      "outputs": [],
      "source": [
        "# creating extra columns\n",
        "rfm_data['days_since_last_call'] = (pd.to_datetime(reference_date) - pd.to_datetime(rfm_data['last_call'])).astype('timedelta64[D]')\n",
        "rfm_data['days_since_last_touch'] = (pd.to_datetime(reference_date) - pd.to_datetime(rfm_data['last_touch'])).astype('timedelta64[D]')\n",
        "rfm_data['days_since_last_seen'] = (pd.to_datetime(reference_date) - pd.to_datetime(rfm_data['last_seen_at'])).astype('timedelta64[D]')"
      ]
    },
    {
      "cell_type": "code",
      "execution_count": 20,
      "metadata": {},
      "outputs": [],
      "source": [
        "# Fill NaN values in 'days_since_last_call' with the maximum value from the column\n",
        "max_last_call = rfm_data['days_since_last_call'].max()\n",
        "rfm_data['days_since_last_call'].fillna(max_last_call, inplace=True)\n",
        "\n",
        "# Fill NaN values in 'days_since_last_touch' with the maximum value from the column\n",
        "max_last_touch = rfm_data['days_since_last_touch'].max()\n",
        "rfm_data['days_since_last_touch'].fillna(max_last_touch, inplace=True)"
      ]
    },
    {
      "cell_type": "code",
      "execution_count": 21,
      "metadata": {},
      "outputs": [],
      "source": [
        "columns_to_normalize = ['budget_value', 'lead_read_gap_min', 'lead_count','view_count','image_count','video_count','discount_count','review_count','touch_count','call_count']  # List of columns to normalize\n",
        "\n",
        "for column in columns_to_normalize:\n",
        "    min_val = rfm_data[column].min()\n",
        "    max_val = rfm_data[column].max()\n",
        "    rfm_data[column] = (rfm_data[column] - min_val) / (max_val - min_val)"
      ]
    },
    {
      "attachments": {},
      "cell_type": "markdown",
      "metadata": {},
      "source": [
        "### Step 2 - > Frequency Part-Monetary Part\n",
        "##### For **frequency**, we can use the following  : *lead_count*,*view_count*, *call_count* and *touch_count* and for **Monetary** our necessary columns will be : *budget_value*,*current_product_price*"
      ]
    },
    {
      "cell_type": "code",
      "execution_count": 22,
      "metadata": {},
      "outputs": [],
      "source": [
        "rfm_data = rfm_data[['provider_id', 'lead_count','view_count','image_count','video_count','discount_count','review_count','touch_count','call_count',\n",
        "                    'membership_length','budget_value','current_products_price','lead_read_gap_min',\n",
        "                    'days_since_last_call', 'days_since_last_touch','days_since_last_seen']]"
      ]
    },
    {
      "cell_type": "code",
      "execution_count": 23,
      "metadata": {},
      "outputs": [
        {
          "data": {
            "text/html": [
              "<div>\n",
              "<style scoped>\n",
              "    .dataframe tbody tr th:only-of-type {\n",
              "        vertical-align: middle;\n",
              "    }\n",
              "\n",
              "    .dataframe tbody tr th {\n",
              "        vertical-align: top;\n",
              "    }\n",
              "\n",
              "    .dataframe thead th {\n",
              "        text-align: right;\n",
              "    }\n",
              "</style>\n",
              "<table border=\"1\" class=\"dataframe\">\n",
              "  <thead>\n",
              "    <tr style=\"text-align: right;\">\n",
              "      <th></th>\n",
              "      <th>provider_id</th>\n",
              "      <th>lead_count</th>\n",
              "      <th>view_count</th>\n",
              "      <th>image_count</th>\n",
              "      <th>video_count</th>\n",
              "      <th>discount_count</th>\n",
              "      <th>review_count</th>\n",
              "      <th>touch_count</th>\n",
              "      <th>call_count</th>\n",
              "      <th>membership_length</th>\n",
              "      <th>budget_value</th>\n",
              "      <th>current_products_price</th>\n",
              "      <th>lead_read_gap_min</th>\n",
              "      <th>days_since_last_call</th>\n",
              "      <th>days_since_last_touch</th>\n",
              "      <th>days_since_last_seen</th>\n",
              "    </tr>\n",
              "  </thead>\n",
              "  <tbody>\n",
              "    <tr>\n",
              "      <th>2</th>\n",
              "      <td>117</td>\n",
              "      <td>0.324134</td>\n",
              "      <td>0.444696</td>\n",
              "      <td>0.080592</td>\n",
              "      <td>0.157143</td>\n",
              "      <td>0.000000</td>\n",
              "      <td>0.147297</td>\n",
              "      <td>0.108333</td>\n",
              "      <td>0.147059</td>\n",
              "      <td>96</td>\n",
              "      <td>0.023067</td>\n",
              "      <td>51288.0</td>\n",
              "      <td>0.031348</td>\n",
              "      <td>137.0</td>\n",
              "      <td>79.0</td>\n",
              "      <td>60.0</td>\n",
              "    </tr>\n",
              "    <tr>\n",
              "      <th>6</th>\n",
              "      <td>143</td>\n",
              "      <td>0.112965</td>\n",
              "      <td>0.085073</td>\n",
              "      <td>0.073191</td>\n",
              "      <td>0.014286</td>\n",
              "      <td>0.222222</td>\n",
              "      <td>0.050000</td>\n",
              "      <td>0.050000</td>\n",
              "      <td>0.088235</td>\n",
              "      <td>108</td>\n",
              "      <td>0.023067</td>\n",
              "      <td>110664.0</td>\n",
              "      <td>0.005032</td>\n",
              "      <td>72.0</td>\n",
              "      <td>72.0</td>\n",
              "      <td>60.0</td>\n",
              "    </tr>\n",
              "  </tbody>\n",
              "</table>\n",
              "</div>"
            ],
            "text/plain": [
              "   provider_id  lead_count  view_count  image_count  video_count  \\\n",
              "2          117    0.324134    0.444696     0.080592     0.157143   \n",
              "6          143    0.112965    0.085073     0.073191     0.014286   \n",
              "\n",
              "   discount_count  review_count  touch_count  call_count  membership_length  \\\n",
              "2        0.000000      0.147297     0.108333    0.147059                 96   \n",
              "6        0.222222      0.050000     0.050000    0.088235                108   \n",
              "\n",
              "   budget_value  current_products_price  lead_read_gap_min  \\\n",
              "2      0.023067                 51288.0           0.031348   \n",
              "6      0.023067                110664.0           0.005032   \n",
              "\n",
              "   days_since_last_call  days_since_last_touch  days_since_last_seen  \n",
              "2                 137.0                   79.0                  60.0  \n",
              "6                  72.0                   72.0                  60.0  "
            ]
          },
          "execution_count": 23,
          "metadata": {},
          "output_type": "execute_result"
        }
      ],
      "source": [
        "#our finalized dataframe to work on can be seen here: \n",
        "rfm_data.head(2)"
      ]
    },
    {
      "cell_type": "code",
      "execution_count": 24,
      "metadata": {},
      "outputs": [],
      "source": [
        "# Function to calculate Monetary column\n",
        "def calculate_monetary(df):\n",
        "    \"\"\"\n",
        "    this function will be used to create a monetary score and assign it to a seperate column created and named as Monetary\n",
        "    \"\"\"\n",
        "    df['Monetary'] = df['current_products_price'] * df['budget_value']\n",
        "\n",
        "# Function to calculate Frequency column\n",
        "def calculate_frequency(df):\n",
        "    \"\"\"\n",
        "    this function will be used to create a frequency score and assign it to a seperate column created and named as Frequency\n",
        "    \"\"\"\n",
        "    df['Frequency'] = (df['image_count'] + df['video_count'] + df['discount_count'] + df['review_count'] + df['lead_count'] + df['view_count'] +\n",
        "                      (1.5 * (df['touch_count'] + df['call_count']))) / df['membership_length']\n",
        "\n",
        "# Function to calculate Recency column\n",
        "def calculate_recency(df):\n",
        "    \"\"\"\n",
        "    this function will be used to create a recency score and assign it to a seperate column created and named as Recency\n",
        "    \"\"\"\n",
        "    min_last_touch = df['days_since_last_touch'].min()\n",
        "    min_last_seen = df['days_since_last_seen'].min()\n",
        "    min_last_call = df['days_since_last_call'].min()\n",
        "\n",
        "    df['Recency'] = np.minimum.reduce([min_last_touch, min_last_seen, min_last_call]) * df['lead_read_gap_min']\n"
      ]
    },
    {
      "cell_type": "code",
      "execution_count": 25,
      "metadata": {},
      "outputs": [],
      "source": [
        "# Calculate the columns using the defined functions\n",
        "calculate_monetary(rfm_data)\n",
        "calculate_frequency(rfm_data)\n",
        "calculate_recency(rfm_data)"
      ]
    },
    {
      "cell_type": "code",
      "execution_count": 26,
      "metadata": {},
      "outputs": [],
      "source": [
        "#now let's create our final RFM dataset to evaluate :\n",
        "rfm_providers=rfm_data[[\"provider_id\"]]\n",
        "rfm_data = rfm_data[[\"Recency\",\"Monetary\",\"Frequency\"]]"
      ]
    },
    {
      "cell_type": "code",
      "execution_count": 27,
      "metadata": {},
      "outputs": [
        {
          "data": {
            "text/html": [
              "<div>\n",
              "<style scoped>\n",
              "    .dataframe tbody tr th:only-of-type {\n",
              "        vertical-align: middle;\n",
              "    }\n",
              "\n",
              "    .dataframe tbody tr th {\n",
              "        vertical-align: top;\n",
              "    }\n",
              "\n",
              "    .dataframe thead th {\n",
              "        text-align: right;\n",
              "    }\n",
              "</style>\n",
              "<table border=\"1\" class=\"dataframe\">\n",
              "  <thead>\n",
              "    <tr style=\"text-align: right;\">\n",
              "      <th></th>\n",
              "      <th>Recency</th>\n",
              "      <th>Monetary</th>\n",
              "      <th>Frequency</th>\n",
              "    </tr>\n",
              "  </thead>\n",
              "  <tbody>\n",
              "    <tr>\n",
              "      <th>0.25</th>\n",
              "      <td>0.204294</td>\n",
              "      <td>94.391860</td>\n",
              "      <td>0.009279</td>\n",
              "    </tr>\n",
              "    <tr>\n",
              "      <th>0.50</th>\n",
              "      <td>1.639889</td>\n",
              "      <td>322.475307</td>\n",
              "      <td>0.017514</td>\n",
              "    </tr>\n",
              "    <tr>\n",
              "      <th>0.75</th>\n",
              "      <td>8.236842</td>\n",
              "      <td>1320.259357</td>\n",
              "      <td>0.034462</td>\n",
              "    </tr>\n",
              "  </tbody>\n",
              "</table>\n",
              "</div>"
            ],
            "text/plain": [
              "       Recency     Monetary  Frequency\n",
              "0.25  0.204294    94.391860   0.009279\n",
              "0.50  1.639889   322.475307   0.017514\n",
              "0.75  8.236842  1320.259357   0.034462"
            ]
          },
          "execution_count": 27,
          "metadata": {},
          "output_type": "execute_result"
        }
      ],
      "source": [
        "quantiles = rfm_data.quantile(q=[0.25,0.5,0.75])\n",
        "quantiles"
      ]
    },
    {
      "cell_type": "code",
      "execution_count": 28,
      "metadata": {},
      "outputs": [
        {
          "data": {
            "text/plain": [
              "{'Recency': {0.25: 0.20429362880886426,\n",
              "  0.5: 1.6398891966759002,\n",
              "  0.75: 8.236842105263158},\n",
              " 'Monetary': {0.25: 94.39186042933774,\n",
              "  0.5: 322.47530743905065,\n",
              "  0.75: 1320.2593565062207},\n",
              " 'Frequency': {0.25: 0.009279177225368272,\n",
              "  0.5: 0.01751447891206222,\n",
              "  0.75: 0.034462434318311176}}"
            ]
          },
          "execution_count": 28,
          "metadata": {},
          "output_type": "execute_result"
        }
      ],
      "source": [
        "quantiles.to_dict()"
      ]
    },
    {
      "cell_type": "code",
      "execution_count": 29,
      "metadata": {},
      "outputs": [],
      "source": [
        "def RScore(x,p,d):\n",
        "    if x <= d[p][0.25]:\n",
        "        return 4\n",
        "    elif x <= d[p][0.50]:\n",
        "        return 3\n",
        "    elif x <= d[p][0.75]: \n",
        "        return 2\n",
        "    else:\n",
        "        return 1\n",
        "def FMScore(x,p,d):\n",
        "    if x <= d[p][0.25]:\n",
        "        return 1\n",
        "    elif x <= d[p][0.50]:\n",
        "        return 2\n",
        "    elif x <= d[p][0.75]: \n",
        "        return 3\n",
        "    else:\n",
        "        return 4"
      ]
    },
    {
      "cell_type": "code",
      "execution_count": 30,
      "metadata": {},
      "outputs": [],
      "source": [
        "rfm_segmentation = rfm_data\n",
        "rfm_segmentation['R_Quartile'] = rfm_segmentation['Recency'].apply(RScore, args=('Recency',quantiles,))\n",
        "rfm_segmentation['F_Quartile'] = rfm_segmentation['Frequency'].apply(FMScore, args=('Frequency',quantiles,))\n",
        "rfm_segmentation['M_Quartile'] = rfm_segmentation['Monetary'].apply(FMScore, args=('Monetary',quantiles,))"
      ]
    },
    {
      "cell_type": "code",
      "execution_count": 31,
      "metadata": {},
      "outputs": [
        {
          "data": {
            "text/html": [
              "<div>\n",
              "<style scoped>\n",
              "    .dataframe tbody tr th:only-of-type {\n",
              "        vertical-align: middle;\n",
              "    }\n",
              "\n",
              "    .dataframe tbody tr th {\n",
              "        vertical-align: top;\n",
              "    }\n",
              "\n",
              "    .dataframe thead th {\n",
              "        text-align: right;\n",
              "    }\n",
              "</style>\n",
              "<table border=\"1\" class=\"dataframe\">\n",
              "  <thead>\n",
              "    <tr style=\"text-align: right;\">\n",
              "      <th></th>\n",
              "      <th>Recency</th>\n",
              "      <th>Monetary</th>\n",
              "      <th>Frequency</th>\n",
              "      <th>R_Quartile</th>\n",
              "      <th>F_Quartile</th>\n",
              "      <th>M_Quartile</th>\n",
              "    </tr>\n",
              "  </thead>\n",
              "  <tbody>\n",
              "    <tr>\n",
              "      <th>2</th>\n",
              "      <td>1.880886</td>\n",
              "      <td>1183.055334</td>\n",
              "      <td>0.016010</td>\n",
              "      <td>2</td>\n",
              "      <td>2</td>\n",
              "      <td>3</td>\n",
              "    </tr>\n",
              "    <tr>\n",
              "      <th>6</th>\n",
              "      <td>0.301939</td>\n",
              "      <td>2552.675781</td>\n",
              "      <td>0.007084</td>\n",
              "      <td>3</td>\n",
              "      <td>1</td>\n",
              "      <td>4</td>\n",
              "    </tr>\n",
              "    <tr>\n",
              "      <th>7</th>\n",
              "      <td>0.066482</td>\n",
              "      <td>168.884932</td>\n",
              "      <td>0.013442</td>\n",
              "      <td>4</td>\n",
              "      <td>2</td>\n",
              "      <td>2</td>\n",
              "    </tr>\n",
              "    <tr>\n",
              "      <th>9</th>\n",
              "      <td>0.287396</td>\n",
              "      <td>677.585534</td>\n",
              "      <td>0.008841</td>\n",
              "      <td>3</td>\n",
              "      <td>1</td>\n",
              "      <td>3</td>\n",
              "    </tr>\n",
              "    <tr>\n",
              "      <th>10</th>\n",
              "      <td>1.572715</td>\n",
              "      <td>5060.786306</td>\n",
              "      <td>0.008249</td>\n",
              "      <td>3</td>\n",
              "      <td>1</td>\n",
              "      <td>4</td>\n",
              "    </tr>\n",
              "  </tbody>\n",
              "</table>\n",
              "</div>"
            ],
            "text/plain": [
              "     Recency     Monetary  Frequency  R_Quartile  F_Quartile  M_Quartile\n",
              "2   1.880886  1183.055334   0.016010           2           2           3\n",
              "6   0.301939  2552.675781   0.007084           3           1           4\n",
              "7   0.066482   168.884932   0.013442           4           2           2\n",
              "9   0.287396   677.585534   0.008841           3           1           3\n",
              "10  1.572715  5060.786306   0.008249           3           1           4"
            ]
          },
          "execution_count": 31,
          "metadata": {},
          "output_type": "execute_result"
        }
      ],
      "source": [
        "rfm_segmentation.head()"
      ]
    },
    {
      "cell_type": "code",
      "execution_count": 32,
      "metadata": {},
      "outputs": [
        {
          "data": {
            "text/html": [
              "<div>\n",
              "<style scoped>\n",
              "    .dataframe tbody tr th:only-of-type {\n",
              "        vertical-align: middle;\n",
              "    }\n",
              "\n",
              "    .dataframe tbody tr th {\n",
              "        vertical-align: top;\n",
              "    }\n",
              "\n",
              "    .dataframe thead th {\n",
              "        text-align: right;\n",
              "    }\n",
              "</style>\n",
              "<table border=\"1\" class=\"dataframe\">\n",
              "  <thead>\n",
              "    <tr style=\"text-align: right;\">\n",
              "      <th></th>\n",
              "      <th>Recency</th>\n",
              "      <th>Monetary</th>\n",
              "      <th>Frequency</th>\n",
              "      <th>R_Quartile</th>\n",
              "      <th>F_Quartile</th>\n",
              "      <th>M_Quartile</th>\n",
              "      <th>RFMScore</th>\n",
              "    </tr>\n",
              "  </thead>\n",
              "  <tbody>\n",
              "    <tr>\n",
              "      <th>2</th>\n",
              "      <td>1.880886</td>\n",
              "      <td>1183.055334</td>\n",
              "      <td>0.016010</td>\n",
              "      <td>2</td>\n",
              "      <td>2</td>\n",
              "      <td>3</td>\n",
              "      <td>223</td>\n",
              "    </tr>\n",
              "    <tr>\n",
              "      <th>6</th>\n",
              "      <td>0.301939</td>\n",
              "      <td>2552.675781</td>\n",
              "      <td>0.007084</td>\n",
              "      <td>3</td>\n",
              "      <td>1</td>\n",
              "      <td>4</td>\n",
              "      <td>314</td>\n",
              "    </tr>\n",
              "    <tr>\n",
              "      <th>7</th>\n",
              "      <td>0.066482</td>\n",
              "      <td>168.884932</td>\n",
              "      <td>0.013442</td>\n",
              "      <td>4</td>\n",
              "      <td>2</td>\n",
              "      <td>2</td>\n",
              "      <td>422</td>\n",
              "    </tr>\n",
              "    <tr>\n",
              "      <th>9</th>\n",
              "      <td>0.287396</td>\n",
              "      <td>677.585534</td>\n",
              "      <td>0.008841</td>\n",
              "      <td>3</td>\n",
              "      <td>1</td>\n",
              "      <td>3</td>\n",
              "      <td>313</td>\n",
              "    </tr>\n",
              "    <tr>\n",
              "      <th>10</th>\n",
              "      <td>1.572715</td>\n",
              "      <td>5060.786306</td>\n",
              "      <td>0.008249</td>\n",
              "      <td>3</td>\n",
              "      <td>1</td>\n",
              "      <td>4</td>\n",
              "      <td>314</td>\n",
              "    </tr>\n",
              "  </tbody>\n",
              "</table>\n",
              "</div>"
            ],
            "text/plain": [
              "     Recency     Monetary  Frequency  R_Quartile  F_Quartile  M_Quartile  \\\n",
              "2   1.880886  1183.055334   0.016010           2           2           3   \n",
              "6   0.301939  2552.675781   0.007084           3           1           4   \n",
              "7   0.066482   168.884932   0.013442           4           2           2   \n",
              "9   0.287396   677.585534   0.008841           3           1           3   \n",
              "10  1.572715  5060.786306   0.008249           3           1           4   \n",
              "\n",
              "   RFMScore  \n",
              "2       223  \n",
              "6       314  \n",
              "7       422  \n",
              "9       313  \n",
              "10      314  "
            ]
          },
          "execution_count": 32,
          "metadata": {},
          "output_type": "execute_result"
        }
      ],
      "source": [
        "rfm_segmentation['RFMScore'] = rfm_segmentation.R_Quartile.map(str) \\\n",
        "                            + rfm_segmentation.F_Quartile.map(str) \\\n",
        "                            + rfm_segmentation.M_Quartile.map(str)\n",
        "rfm_segmentation.head()"
      ]
    },
    {
      "cell_type": "code",
      "execution_count": 33,
      "metadata": {},
      "outputs": [
        {
          "data": {
            "text/html": [
              "<div>\n",
              "<style scoped>\n",
              "    .dataframe tbody tr th:only-of-type {\n",
              "        vertical-align: middle;\n",
              "    }\n",
              "\n",
              "    .dataframe tbody tr th {\n",
              "        vertical-align: top;\n",
              "    }\n",
              "\n",
              "    .dataframe thead th {\n",
              "        text-align: right;\n",
              "    }\n",
              "</style>\n",
              "<table border=\"1\" class=\"dataframe\">\n",
              "  <thead>\n",
              "    <tr style=\"text-align: right;\">\n",
              "      <th></th>\n",
              "      <th>Recency</th>\n",
              "      <th>Monetary</th>\n",
              "      <th>Frequency</th>\n",
              "      <th>R_Quartile</th>\n",
              "      <th>F_Quartile</th>\n",
              "      <th>M_Quartile</th>\n",
              "      <th>RFMScore</th>\n",
              "      <th>RFMScore_num</th>\n",
              "    </tr>\n",
              "  </thead>\n",
              "  <tbody>\n",
              "    <tr>\n",
              "      <th>2</th>\n",
              "      <td>1.880886</td>\n",
              "      <td>1183.055334</td>\n",
              "      <td>0.016010</td>\n",
              "      <td>2</td>\n",
              "      <td>2</td>\n",
              "      <td>3</td>\n",
              "      <td>223</td>\n",
              "      <td>7</td>\n",
              "    </tr>\n",
              "    <tr>\n",
              "      <th>6</th>\n",
              "      <td>0.301939</td>\n",
              "      <td>2552.675781</td>\n",
              "      <td>0.007084</td>\n",
              "      <td>3</td>\n",
              "      <td>1</td>\n",
              "      <td>4</td>\n",
              "      <td>314</td>\n",
              "      <td>8</td>\n",
              "    </tr>\n",
              "    <tr>\n",
              "      <th>7</th>\n",
              "      <td>0.066482</td>\n",
              "      <td>168.884932</td>\n",
              "      <td>0.013442</td>\n",
              "      <td>4</td>\n",
              "      <td>2</td>\n",
              "      <td>2</td>\n",
              "      <td>422</td>\n",
              "      <td>8</td>\n",
              "    </tr>\n",
              "    <tr>\n",
              "      <th>9</th>\n",
              "      <td>0.287396</td>\n",
              "      <td>677.585534</td>\n",
              "      <td>0.008841</td>\n",
              "      <td>3</td>\n",
              "      <td>1</td>\n",
              "      <td>3</td>\n",
              "      <td>313</td>\n",
              "      <td>7</td>\n",
              "    </tr>\n",
              "    <tr>\n",
              "      <th>10</th>\n",
              "      <td>1.572715</td>\n",
              "      <td>5060.786306</td>\n",
              "      <td>0.008249</td>\n",
              "      <td>3</td>\n",
              "      <td>1</td>\n",
              "      <td>4</td>\n",
              "      <td>314</td>\n",
              "      <td>8</td>\n",
              "    </tr>\n",
              "  </tbody>\n",
              "</table>\n",
              "</div>"
            ],
            "text/plain": [
              "     Recency     Monetary  Frequency  R_Quartile  F_Quartile  M_Quartile  \\\n",
              "2   1.880886  1183.055334   0.016010           2           2           3   \n",
              "6   0.301939  2552.675781   0.007084           3           1           4   \n",
              "7   0.066482   168.884932   0.013442           4           2           2   \n",
              "9   0.287396   677.585534   0.008841           3           1           3   \n",
              "10  1.572715  5060.786306   0.008249           3           1           4   \n",
              "\n",
              "   RFMScore  RFMScore_num  \n",
              "2       223             7  \n",
              "6       314             8  \n",
              "7       422             8  \n",
              "9       313             7  \n",
              "10      314             8  "
            ]
          },
          "execution_count": 33,
          "metadata": {},
          "output_type": "execute_result"
        }
      ],
      "source": [
        "rfm_segmentation['RFMScore_num'] = rfm_segmentation.R_Quartile \\\n",
        "                            + rfm_segmentation.F_Quartile \\\n",
        "                            + rfm_segmentation.M_Quartile\n",
        "rfm_segmentation.head()"
      ]
    },
    {
      "cell_type": "code",
      "execution_count": 34,
      "metadata": {},
      "outputs": [],
      "source": [
        "rfm_segmentation = rfm_segmentation.reset_index(drop=True)"
      ]
    },
    {
      "cell_type": "code",
      "execution_count": 35,
      "metadata": {},
      "outputs": [],
      "source": [
        "rfm_providers = rfm_providers.reset_index(drop=True)"
      ]
    },
    {
      "cell_type": "code",
      "execution_count": 36,
      "metadata": {},
      "outputs": [],
      "source": [
        "rfm_segmentation = pd.merge(rfm_providers, rfm_segmentation, left_index=True, right_index=True)"
      ]
    },
    {
      "cell_type": "code",
      "execution_count": 37,
      "metadata": {},
      "outputs": [],
      "source": [
        "#Saving the feature engineering results as CSV file\n",
        "rfm_segmentation.to_csv(Path(\"..\",\"data\",\"rfm_segmentation.csv\"),index=False)"
      ]
    }
  ],
  "metadata": {
    "colab": {
      "collapsed_sections": [
        "HTvVDISRDZaz"
      ],
      "provenance": []
    },
    "kernelspec": {
      "display_name": "Python 3",
      "language": "python",
      "name": "python3"
    },
    "language_info": {
      "codemirror_mode": {
        "name": "ipython",
        "version": 3
      },
      "file_extension": ".py",
      "mimetype": "text/x-python",
      "name": "python",
      "nbconvert_exporter": "python",
      "pygments_lexer": "ipython3",
      "version": "3.10.7"
    },
    "vscode": {
      "interpreter": {
        "hash": "f98203001e58baa8dd805f4f824c01d24cf230d8084a9dc5f93a566aa83d4eb4"
      }
    }
  },
  "nbformat": 4,
  "nbformat_minor": 0
}
