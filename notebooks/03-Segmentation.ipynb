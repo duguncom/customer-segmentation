{
  "cells": [
    {
      "cell_type": "code",
      "execution_count": 94,
      "metadata": {
        "colab": {
          "base_uri": "https://localhost:8080/"
        },
        "id": "OX4jmyNSdvef",
        "outputId": "b99abca8-6cb9-49df-c380-aae39d879fd8"
      },
      "outputs": [],
      "source": [
        "import sys\n",
        "import os\n",
        "import datetime\n",
        "import numpy as np\n",
        "#Loading utils for required funcs\n",
        "%run {os.path.join('..', 'src', 'utils.py')}"
      ]
    },
    {
      "attachments": {},
      "cell_type": "markdown",
      "metadata": {},
      "source": [
        "## RFM\n",
        "##### Recency, Frequency, Monetary value (RFM) is a model used in marketing analysis that segments a company's consumer base by their purchasing patterns or habits. In particular, it evaluates customers Recency (how long ago they made a purchase), Frequency (how often they make purchases), and Monetary value (how much money they spend).\n"
      ]
    },
    {
      "cell_type": "code",
      "execution_count": 102,
      "metadata": {},
      "outputs": [],
      "source": [
        "#read our dataset\n",
        "rfm_data = pd.read_csv(os.path.join(\"..\",\"data\",\"potentials.csv\"))\n",
        "payment = pd.read_csv(os.path.join(\"..\",\"data\",\"payment.csv\"))\n",
        "satisfaction=pd.read_csv(os.path.join(\"..\",\"data\",\"satisfaction.csv\"))"
      ]
    },
    {
      "cell_type": "code",
      "execution_count": 103,
      "metadata": {},
      "outputs": [],
      "source": [
        "# Boolean condition to filter rows\n",
        "condition = (rfm_data['is_promotion'] != 1) & (rfm_data['current_products_price'] > 0) & (rfm_data['membership_length'] > 0)\n",
        "\n",
        "# Filter the DataFrame based on the condition\n",
        "rfm_data = rfm_data[condition].copy()"
      ]
    },
    {
      "cell_type": "code",
      "execution_count": 104,
      "metadata": {},
      "outputs": [],
      "source": [
        "#filling the NaN budget_value with 1\n",
        "rfm_data['budget_value'].fillna(1, inplace=True)"
      ]
    },
    {
      "cell_type": "code",
      "execution_count": 105,
      "metadata": {},
      "outputs": [],
      "source": [
        "# Sort the satisfaction dataframe by date in descending order\n",
        "satisfaction_sorted = satisfaction.sort_values('satisfaction_date', ascending=False)\n",
        "\n",
        "# Drop duplicate rows based on customer_id and provider_id, keeping only the first occurrence (which will be the latest date)\n",
        "satisfaction_latest = satisfaction_sorted.drop_duplicates(['customer_id', 'provider_id'])"
      ]
    },
    {
      "cell_type": "code",
      "execution_count": 106,
      "metadata": {},
      "outputs": [],
      "source": [
        "# Merge the dataframes on provider_id and customer_id using a left join\n",
        "merged_df = rfm_data.merge(satisfaction[['provider_id', 'customer_id', 'value']], on=['provider_id', 'customer_id'], how='left')\n",
        "\n",
        "# Add the satisfaction_status column to rfm_data_subs\n",
        "rfm_data['satisfaction_status'] = merged_df['value']"
      ]
    },
    {
      "cell_type": "code",
      "execution_count": 107,
      "metadata": {},
      "outputs": [
        {
          "data": {
            "text/plain": [
              "\"note for me : all the dublicated provider_id's are missing information thus there is no double provider_id\\n# Find and display the duplicated rows based on 'provider_id' column\\nduplicated_rows = satisfaction_latest[satisfaction_latest.duplicated(subset='provider_id', keep=False)]\\n\\n# Print the duplicated rows\\nduplicated_rows\\n\""
            ]
          },
          "execution_count": 107,
          "metadata": {},
          "output_type": "execute_result"
        }
      ],
      "source": [
        "'''note for me : all the dublicated provider_id's are missing information thus there is no double provider_id\n",
        "# Find and display the duplicated rows based on 'provider_id' column\n",
        "duplicated_rows = satisfaction_latest[satisfaction_latest.duplicated(subset='provider_id', keep=False)]\n",
        "\n",
        "# Print the duplicated rows\n",
        "duplicated_rows\n",
        "'''"
      ]
    },
    {
      "cell_type": "code",
      "execution_count": 108,
      "metadata": {},
      "outputs": [
        {
          "data": {
            "text/plain": [
              "'\\nprovider_counts = payment.groupby(\\'provider_id\\')[\\'customer_id\\'].nunique()\\n\\nmultiple_customers_providers = provider_counts[provider_counts > 1]\\n\\nif len(multiple_customers_providers) > 0:\\n    print(\"There are provider_ids with multiple customers\")\\n    print(multiple_customers_providers)\\nelse:\\n    print(\"There are no provider_id with multiple customers\")  \\n'"
            ]
          },
          "execution_count": 108,
          "metadata": {},
          "output_type": "execute_result"
        }
      ],
      "source": [
        "'''\n",
        "provider_counts = payment.groupby('provider_id')['customer_id'].nunique()\n",
        "\n",
        "multiple_customers_providers = provider_counts[provider_counts > 1]\n",
        "\n",
        "if len(multiple_customers_providers) > 0:\n",
        "    print(\"There are provider_ids with multiple customers\")\n",
        "    print(multiple_customers_providers)\n",
        "else:\n",
        "    print(\"There are no provider_id with multiple customers\")  \n",
        "'''"
      ]
    },
    {
      "cell_type": "code",
      "execution_count": 109,
      "metadata": {},
      "outputs": [],
      "source": [
        "# Group the payment dataframe by customer_id and get the latest payment_status_id for each customer\n",
        "latest_payment_status = payment.groupby('customer_id')['payment_status_id'].last()\n",
        "\n",
        "# Create a new column 'payment_status_id' in rfm_dataset and fill it with the latest payment_status_ids\n",
        "rfm_data['payment_status_id'] = rfm_data['customer_id'].map(latest_payment_status)\n"
      ]
    },
    {
      "attachments": {},
      "cell_type": "markdown",
      "metadata": {},
      "source": [
        "###  Step 1 - > Recency"
      ]
    },
    {
      "cell_type": "code",
      "execution_count": 111,
      "metadata": {},
      "outputs": [],
      "source": [
        "#we will count information until today\n",
        "reference_date = datetime.datetime.today().date()"
      ]
    },
    {
      "cell_type": "code",
      "execution_count": 112,
      "metadata": {},
      "outputs": [],
      "source": [
        "# creating extra columns\n",
        "rfm_data['days_since_last_call'] = (pd.to_datetime(reference_date) - pd.to_datetime(rfm_data['last_call'])).astype('timedelta64[D]')\n",
        "rfm_data['days_since_last_touch'] = (pd.to_datetime(reference_date) - pd.to_datetime(rfm_data['last_touch'])).astype('timedelta64[D]')\n",
        "rfm_data['days_since_last_seen'] = (pd.to_datetime(reference_date) - pd.to_datetime(rfm_data['last_seen_at'])).astype('timedelta64[D]')"
      ]
    },
    {
      "cell_type": "code",
      "execution_count": 113,
      "metadata": {},
      "outputs": [],
      "source": [
        "# Fill NaN values in 'days_since_last_call' with the maximum value from the column\n",
        "max_last_call = rfm_data['days_since_last_call'].max()\n",
        "rfm_data['days_since_last_call'].fillna(max_last_call, inplace=True)\n",
        "\n",
        "# Fill NaN values in 'days_since_last_touch' with the maximum value from the column\n",
        "max_last_touch = rfm_data['days_since_last_touch'].max()\n",
        "rfm_data['days_since_last_touch'].fillna(max_last_touch, inplace=True)"
      ]
    },
    {
      "cell_type": "code",
      "execution_count": 114,
      "metadata": {},
      "outputs": [],
      "source": [
        "columns_to_normalize = ['budget_value', 'lead_read_gap_min', 'lead_count','view_count','image_count','video_count','discount_count','review_count','touch_count','call_count']  # List of columns to normalize\n",
        "\n",
        "for column in columns_to_normalize:\n",
        "    min_val = rfm_data[column].min()\n",
        "    max_val = rfm_data[column].max()\n",
        "    rfm_data[column] = (rfm_data[column] - min_val) / (max_val - min_val)"
      ]
    },
    {
      "attachments": {},
      "cell_type": "markdown",
      "metadata": {},
      "source": [
        "### Step 2 - > Frequency Part-Monetary Part\n",
        "##### For **frequency**, we can use the following  : *lead_count*,*view_count*, *call_count* and *touch_count* and for **Monetary** our necessary columns will be : *budget_value*,*current_product_price*"
      ]
    },
    {
      "cell_type": "code",
      "execution_count": 115,
      "metadata": {},
      "outputs": [],
      "source": [
        "rfm_data = rfm_data[['provider_id', 'customer_id','lead_count','view_count','image_count','video_count','discount_count','review_count','touch_count','call_count',\n",
        "                    'membership_length','budget_value','current_products_price','lead_read_gap_min',\n",
        "                    'days_since_last_call', 'days_since_last_touch','days_since_last_seen','satisfaction_status','payment_status_id']]"
      ]
    },
    {
      "cell_type": "code",
      "execution_count": 116,
      "metadata": {},
      "outputs": [
        {
          "data": {
            "text/html": [
              "<div>\n",
              "<style scoped>\n",
              "    .dataframe tbody tr th:only-of-type {\n",
              "        vertical-align: middle;\n",
              "    }\n",
              "\n",
              "    .dataframe tbody tr th {\n",
              "        vertical-align: top;\n",
              "    }\n",
              "\n",
              "    .dataframe thead th {\n",
              "        text-align: right;\n",
              "    }\n",
              "</style>\n",
              "<table border=\"1\" class=\"dataframe\">\n",
              "  <thead>\n",
              "    <tr style=\"text-align: right;\">\n",
              "      <th></th>\n",
              "      <th>provider_id</th>\n",
              "      <th>customer_id</th>\n",
              "      <th>lead_count</th>\n",
              "      <th>view_count</th>\n",
              "      <th>image_count</th>\n",
              "      <th>video_count</th>\n",
              "      <th>discount_count</th>\n",
              "      <th>review_count</th>\n",
              "      <th>touch_count</th>\n",
              "      <th>call_count</th>\n",
              "      <th>membership_length</th>\n",
              "      <th>budget_value</th>\n",
              "      <th>current_products_price</th>\n",
              "      <th>lead_read_gap_min</th>\n",
              "      <th>days_since_last_call</th>\n",
              "      <th>days_since_last_touch</th>\n",
              "      <th>days_since_last_seen</th>\n",
              "      <th>satisfaction_status</th>\n",
              "      <th>payment_status_id</th>\n",
              "    </tr>\n",
              "  </thead>\n",
              "  <tbody>\n",
              "    <tr>\n",
              "      <th>2</th>\n",
              "      <td>117</td>\n",
              "      <td>2253</td>\n",
              "      <td>0.324134</td>\n",
              "      <td>0.444696</td>\n",
              "      <td>0.080592</td>\n",
              "      <td>0.059140</td>\n",
              "      <td>0.000000</td>\n",
              "      <td>0.147297</td>\n",
              "      <td>0.108333</td>\n",
              "      <td>0.147059</td>\n",
              "      <td>96</td>\n",
              "      <td>0.023067</td>\n",
              "      <td>51288.0</td>\n",
              "      <td>0.031348</td>\n",
              "      <td>140.0</td>\n",
              "      <td>82.0</td>\n",
              "      <td>63.0</td>\n",
              "      <td>Memnun</td>\n",
              "      <td>future_payment</td>\n",
              "    </tr>\n",
              "    <tr>\n",
              "      <th>6</th>\n",
              "      <td>143</td>\n",
              "      <td>2254</td>\n",
              "      <td>0.112965</td>\n",
              "      <td>0.085073</td>\n",
              "      <td>0.073191</td>\n",
              "      <td>0.005376</td>\n",
              "      <td>0.222222</td>\n",
              "      <td>0.050000</td>\n",
              "      <td>0.050000</td>\n",
              "      <td>0.088235</td>\n",
              "      <td>108</td>\n",
              "      <td>0.023067</td>\n",
              "      <td>110664.0</td>\n",
              "      <td>0.005032</td>\n",
              "      <td>75.0</td>\n",
              "      <td>75.0</td>\n",
              "      <td>63.0</td>\n",
              "      <td>Memnun</td>\n",
              "      <td>future_payment</td>\n",
              "    </tr>\n",
              "  </tbody>\n",
              "</table>\n",
              "</div>"
            ],
            "text/plain": [
              "   provider_id  customer_id  lead_count  view_count  image_count  video_count  \\\n",
              "2          117         2253    0.324134    0.444696     0.080592     0.059140   \n",
              "6          143         2254    0.112965    0.085073     0.073191     0.005376   \n",
              "\n",
              "   discount_count  review_count  touch_count  call_count  membership_length  \\\n",
              "2        0.000000      0.147297     0.108333    0.147059                 96   \n",
              "6        0.222222      0.050000     0.050000    0.088235                108   \n",
              "\n",
              "   budget_value  current_products_price  lead_read_gap_min  \\\n",
              "2      0.023067                 51288.0           0.031348   \n",
              "6      0.023067                110664.0           0.005032   \n",
              "\n",
              "   days_since_last_call  days_since_last_touch  days_since_last_seen  \\\n",
              "2                 140.0                   82.0                  63.0   \n",
              "6                  75.0                   75.0                  63.0   \n",
              "\n",
              "  satisfaction_status payment_status_id  \n",
              "2              Memnun    future_payment  \n",
              "6              Memnun    future_payment  "
            ]
          },
          "execution_count": 116,
          "metadata": {},
          "output_type": "execute_result"
        }
      ],
      "source": [
        "#our finalized dataframe to work on can be seen here: \n",
        "rfm_data.head(2)"
      ]
    },
    {
      "cell_type": "code",
      "execution_count": 117,
      "metadata": {},
      "outputs": [],
      "source": [
        "# Function to calculate Monetary column\n",
        "def calculate_monetary(df):\n",
        "    \"\"\"\n",
        "    this function will be used to create a monetary score and assign it to a seperate column created and named as Monetary\n",
        "    \"\"\"\n",
        "    df['Monetary'] = df['current_products_price'] * df['budget_value']\n",
        "\n",
        "# Function to calculate Frequency column\n",
        "def calculate_frequency(df):\n",
        "    \"\"\"\n",
        "    this function will be used to create a frequency score and assign it to a seperate column created and named as Frequency\n",
        "    \"\"\"\n",
        "    df['Frequency'] = (df['image_count'] + df['video_count'] + df['discount_count'] + df['review_count'] + df['lead_count'] + df['view_count'] +\n",
        "                      (1.5 * (df['touch_count'] + df['call_count']))) / df['membership_length']\n",
        "\n",
        "# Function to calculate Recency column\n",
        "def calculate_recency(df):\n",
        "    \"\"\"\n",
        "    this function will be used to create a recency score and assign it to a seperate column created and named as Recency\n",
        "    \"\"\"\n",
        "    min_last_touch = df['days_since_last_touch'].min()\n",
        "    min_last_seen = df['days_since_last_seen'].min()\n",
        "    min_last_call = df['days_since_last_call'].min()\n",
        "\n",
        "    df['Recency'] = np.minimum.reduce([min_last_touch, min_last_seen, min_last_call]) * df['lead_read_gap_min']\n"
      ]
    },
    {
      "cell_type": "code",
      "execution_count": 118,
      "metadata": {},
      "outputs": [],
      "source": [
        "# Calculate the columns using the defined functions\n",
        "calculate_monetary(rfm_data)\n",
        "calculate_frequency(rfm_data)\n",
        "calculate_recency(rfm_data)"
      ]
    },
    {
      "cell_type": "code",
      "execution_count": 119,
      "metadata": {},
      "outputs": [],
      "source": [
        "#now let's create our final RFM dataset to evaluate :\n",
        "rfm_providers=rfm_data[[\"provider_id\"]]\n",
        "rfm_customers= rfm_data[[\"customer_id\"]]\n",
        "rfm_satisfaction=rfm_data[[\"satisfaction_status\"]]\n",
        "rfm_payment=rfm_data[[\"payment_status_id\"]]\n",
        "rfm_data = rfm_data[[\"Recency\",\"Monetary\",\"Frequency\"]]"
      ]
    },
    {
      "cell_type": "code",
      "execution_count": 120,
      "metadata": {},
      "outputs": [
        {
          "data": {
            "text/html": [
              "<div>\n",
              "<style scoped>\n",
              "    .dataframe tbody tr th:only-of-type {\n",
              "        vertical-align: middle;\n",
              "    }\n",
              "\n",
              "    .dataframe tbody tr th {\n",
              "        vertical-align: top;\n",
              "    }\n",
              "\n",
              "    .dataframe thead th {\n",
              "        text-align: right;\n",
              "    }\n",
              "</style>\n",
              "<table border=\"1\" class=\"dataframe\">\n",
              "  <thead>\n",
              "    <tr style=\"text-align: right;\">\n",
              "      <th></th>\n",
              "      <th>Recency</th>\n",
              "      <th>Monetary</th>\n",
              "      <th>Frequency</th>\n",
              "    </tr>\n",
              "  </thead>\n",
              "  <tbody>\n",
              "    <tr>\n",
              "      <th>0.25</th>\n",
              "      <td>0.214508</td>\n",
              "      <td>94.391860</td>\n",
              "      <td>0.008535</td>\n",
              "    </tr>\n",
              "    <tr>\n",
              "      <th>0.50</th>\n",
              "      <td>1.729155</td>\n",
              "      <td>322.475307</td>\n",
              "      <td>0.016372</td>\n",
              "    </tr>\n",
              "    <tr>\n",
              "      <th>0.75</th>\n",
              "      <td>8.648684</td>\n",
              "      <td>1392.868686</td>\n",
              "      <td>0.032273</td>\n",
              "    </tr>\n",
              "  </tbody>\n",
              "</table>\n",
              "</div>"
            ],
            "text/plain": [
              "       Recency     Monetary  Frequency\n",
              "0.25  0.214508    94.391860   0.008535\n",
              "0.50  1.729155   322.475307   0.016372\n",
              "0.75  8.648684  1392.868686   0.032273"
            ]
          },
          "execution_count": 120,
          "metadata": {},
          "output_type": "execute_result"
        }
      ],
      "source": [
        "quantiles = rfm_data.quantile(q=[0.25,0.5,0.75])\n",
        "quantiles"
      ]
    },
    {
      "cell_type": "code",
      "execution_count": 121,
      "metadata": {},
      "outputs": [
        {
          "data": {
            "text/plain": [
              "{'Recency': {0.25: 0.21450831024930747,\n",
              "  0.5: 1.7291551246537396,\n",
              "  0.75: 8.648684210526316},\n",
              " 'Monetary': {0.25: 94.39186042933774,\n",
              "  0.5: 322.47530743905065,\n",
              "  0.75: 1392.8686858326753},\n",
              " 'Frequency': {0.25: 0.008535109955235395,\n",
              "  0.5: 0.016371864622555635,\n",
              "  0.75: 0.03227345905319448}}"
            ]
          },
          "execution_count": 121,
          "metadata": {},
          "output_type": "execute_result"
        }
      ],
      "source": [
        "quantiles.to_dict()"
      ]
    },
    {
      "cell_type": "code",
      "execution_count": 122,
      "metadata": {},
      "outputs": [],
      "source": [
        "def RScore(x,p,d):\n",
        "    if x <= d[p][0.25]:\n",
        "        return 4\n",
        "    elif x <= d[p][0.50]:\n",
        "        return 3\n",
        "    elif x <= d[p][0.75]: \n",
        "        return 2\n",
        "    else:\n",
        "        return 1\n",
        "def FMScore(x,p,d):\n",
        "    if x <= d[p][0.25]:\n",
        "        return 1\n",
        "    elif x <= d[p][0.50]:\n",
        "        return 2\n",
        "    elif x <= d[p][0.75]: \n",
        "        return 3\n",
        "    else:\n",
        "        return 4"
      ]
    },
    {
      "cell_type": "code",
      "execution_count": 123,
      "metadata": {},
      "outputs": [],
      "source": [
        "rfm_segmentation = rfm_data\n",
        "rfm_segmentation['R_Quartile'] = rfm_segmentation['Recency'].apply(RScore, args=('Recency',quantiles,))\n",
        "rfm_segmentation['F_Quartile'] = rfm_segmentation['Frequency'].apply(FMScore, args=('Frequency',quantiles,))\n",
        "rfm_segmentation['M_Quartile'] = rfm_segmentation['Monetary'].apply(FMScore, args=('Monetary',quantiles,))"
      ]
    },
    {
      "cell_type": "code",
      "execution_count": 124,
      "metadata": {},
      "outputs": [
        {
          "data": {
            "text/html": [
              "<div>\n",
              "<style scoped>\n",
              "    .dataframe tbody tr th:only-of-type {\n",
              "        vertical-align: middle;\n",
              "    }\n",
              "\n",
              "    .dataframe tbody tr th {\n",
              "        vertical-align: top;\n",
              "    }\n",
              "\n",
              "    .dataframe thead th {\n",
              "        text-align: right;\n",
              "    }\n",
              "</style>\n",
              "<table border=\"1\" class=\"dataframe\">\n",
              "  <thead>\n",
              "    <tr style=\"text-align: right;\">\n",
              "      <th></th>\n",
              "      <th>Recency</th>\n",
              "      <th>Monetary</th>\n",
              "      <th>Frequency</th>\n",
              "      <th>R_Quartile</th>\n",
              "      <th>F_Quartile</th>\n",
              "      <th>M_Quartile</th>\n",
              "    </tr>\n",
              "  </thead>\n",
              "  <tbody>\n",
              "    <tr>\n",
              "      <th>2</th>\n",
              "      <td>1.974931</td>\n",
              "      <td>1183.055334</td>\n",
              "      <td>0.014989</td>\n",
              "      <td>2</td>\n",
              "      <td>2</td>\n",
              "      <td>3</td>\n",
              "    </tr>\n",
              "    <tr>\n",
              "      <th>6</th>\n",
              "      <td>0.317036</td>\n",
              "      <td>2552.675781</td>\n",
              "      <td>0.007002</td>\n",
              "      <td>3</td>\n",
              "      <td>1</td>\n",
              "      <td>4</td>\n",
              "    </tr>\n",
              "    <tr>\n",
              "      <th>7</th>\n",
              "      <td>0.069806</td>\n",
              "      <td>168.884932</td>\n",
              "      <td>0.013349</td>\n",
              "      <td>4</td>\n",
              "      <td>2</td>\n",
              "      <td>2</td>\n",
              "    </tr>\n",
              "    <tr>\n",
              "      <th>9</th>\n",
              "      <td>0.301766</td>\n",
              "      <td>677.585534</td>\n",
              "      <td>0.008735</td>\n",
              "      <td>3</td>\n",
              "      <td>2</td>\n",
              "      <td>3</td>\n",
              "    </tr>\n",
              "    <tr>\n",
              "      <th>10</th>\n",
              "      <td>1.651350</td>\n",
              "      <td>5060.786306</td>\n",
              "      <td>0.008125</td>\n",
              "      <td>3</td>\n",
              "      <td>1</td>\n",
              "      <td>4</td>\n",
              "    </tr>\n",
              "  </tbody>\n",
              "</table>\n",
              "</div>"
            ],
            "text/plain": [
              "     Recency     Monetary  Frequency  R_Quartile  F_Quartile  M_Quartile\n",
              "2   1.974931  1183.055334   0.014989           2           2           3\n",
              "6   0.317036  2552.675781   0.007002           3           1           4\n",
              "7   0.069806   168.884932   0.013349           4           2           2\n",
              "9   0.301766   677.585534   0.008735           3           2           3\n",
              "10  1.651350  5060.786306   0.008125           3           1           4"
            ]
          },
          "execution_count": 124,
          "metadata": {},
          "output_type": "execute_result"
        }
      ],
      "source": [
        "rfm_segmentation.head()"
      ]
    },
    {
      "cell_type": "code",
      "execution_count": 125,
      "metadata": {},
      "outputs": [
        {
          "data": {
            "text/html": [
              "<div>\n",
              "<style scoped>\n",
              "    .dataframe tbody tr th:only-of-type {\n",
              "        vertical-align: middle;\n",
              "    }\n",
              "\n",
              "    .dataframe tbody tr th {\n",
              "        vertical-align: top;\n",
              "    }\n",
              "\n",
              "    .dataframe thead th {\n",
              "        text-align: right;\n",
              "    }\n",
              "</style>\n",
              "<table border=\"1\" class=\"dataframe\">\n",
              "  <thead>\n",
              "    <tr style=\"text-align: right;\">\n",
              "      <th></th>\n",
              "      <th>Recency</th>\n",
              "      <th>Monetary</th>\n",
              "      <th>Frequency</th>\n",
              "      <th>R_Quartile</th>\n",
              "      <th>F_Quartile</th>\n",
              "      <th>M_Quartile</th>\n",
              "      <th>RFMScore</th>\n",
              "    </tr>\n",
              "  </thead>\n",
              "  <tbody>\n",
              "    <tr>\n",
              "      <th>2</th>\n",
              "      <td>1.974931</td>\n",
              "      <td>1183.055334</td>\n",
              "      <td>0.014989</td>\n",
              "      <td>2</td>\n",
              "      <td>2</td>\n",
              "      <td>3</td>\n",
              "      <td>223</td>\n",
              "    </tr>\n",
              "    <tr>\n",
              "      <th>6</th>\n",
              "      <td>0.317036</td>\n",
              "      <td>2552.675781</td>\n",
              "      <td>0.007002</td>\n",
              "      <td>3</td>\n",
              "      <td>1</td>\n",
              "      <td>4</td>\n",
              "      <td>314</td>\n",
              "    </tr>\n",
              "    <tr>\n",
              "      <th>7</th>\n",
              "      <td>0.069806</td>\n",
              "      <td>168.884932</td>\n",
              "      <td>0.013349</td>\n",
              "      <td>4</td>\n",
              "      <td>2</td>\n",
              "      <td>2</td>\n",
              "      <td>422</td>\n",
              "    </tr>\n",
              "    <tr>\n",
              "      <th>9</th>\n",
              "      <td>0.301766</td>\n",
              "      <td>677.585534</td>\n",
              "      <td>0.008735</td>\n",
              "      <td>3</td>\n",
              "      <td>2</td>\n",
              "      <td>3</td>\n",
              "      <td>323</td>\n",
              "    </tr>\n",
              "    <tr>\n",
              "      <th>10</th>\n",
              "      <td>1.651350</td>\n",
              "      <td>5060.786306</td>\n",
              "      <td>0.008125</td>\n",
              "      <td>3</td>\n",
              "      <td>1</td>\n",
              "      <td>4</td>\n",
              "      <td>314</td>\n",
              "    </tr>\n",
              "  </tbody>\n",
              "</table>\n",
              "</div>"
            ],
            "text/plain": [
              "     Recency     Monetary  Frequency  R_Quartile  F_Quartile  M_Quartile  \\\n",
              "2   1.974931  1183.055334   0.014989           2           2           3   \n",
              "6   0.317036  2552.675781   0.007002           3           1           4   \n",
              "7   0.069806   168.884932   0.013349           4           2           2   \n",
              "9   0.301766   677.585534   0.008735           3           2           3   \n",
              "10  1.651350  5060.786306   0.008125           3           1           4   \n",
              "\n",
              "   RFMScore  \n",
              "2       223  \n",
              "6       314  \n",
              "7       422  \n",
              "9       323  \n",
              "10      314  "
            ]
          },
          "execution_count": 125,
          "metadata": {},
          "output_type": "execute_result"
        }
      ],
      "source": [
        "rfm_segmentation['RFMScore'] = rfm_segmentation.R_Quartile.map(str) \\\n",
        "                            + rfm_segmentation.F_Quartile.map(str) \\\n",
        "                            + rfm_segmentation.M_Quartile.map(str)\n",
        "rfm_segmentation.head()"
      ]
    },
    {
      "cell_type": "code",
      "execution_count": 126,
      "metadata": {},
      "outputs": [
        {
          "data": {
            "text/html": [
              "<div>\n",
              "<style scoped>\n",
              "    .dataframe tbody tr th:only-of-type {\n",
              "        vertical-align: middle;\n",
              "    }\n",
              "\n",
              "    .dataframe tbody tr th {\n",
              "        vertical-align: top;\n",
              "    }\n",
              "\n",
              "    .dataframe thead th {\n",
              "        text-align: right;\n",
              "    }\n",
              "</style>\n",
              "<table border=\"1\" class=\"dataframe\">\n",
              "  <thead>\n",
              "    <tr style=\"text-align: right;\">\n",
              "      <th></th>\n",
              "      <th>Recency</th>\n",
              "      <th>Monetary</th>\n",
              "      <th>Frequency</th>\n",
              "      <th>R_Quartile</th>\n",
              "      <th>F_Quartile</th>\n",
              "      <th>M_Quartile</th>\n",
              "      <th>RFMScore</th>\n",
              "      <th>RFMScore_num</th>\n",
              "    </tr>\n",
              "  </thead>\n",
              "  <tbody>\n",
              "    <tr>\n",
              "      <th>2</th>\n",
              "      <td>1.974931</td>\n",
              "      <td>1183.055334</td>\n",
              "      <td>0.014989</td>\n",
              "      <td>2</td>\n",
              "      <td>2</td>\n",
              "      <td>3</td>\n",
              "      <td>223</td>\n",
              "      <td>7</td>\n",
              "    </tr>\n",
              "    <tr>\n",
              "      <th>6</th>\n",
              "      <td>0.317036</td>\n",
              "      <td>2552.675781</td>\n",
              "      <td>0.007002</td>\n",
              "      <td>3</td>\n",
              "      <td>1</td>\n",
              "      <td>4</td>\n",
              "      <td>314</td>\n",
              "      <td>8</td>\n",
              "    </tr>\n",
              "    <tr>\n",
              "      <th>7</th>\n",
              "      <td>0.069806</td>\n",
              "      <td>168.884932</td>\n",
              "      <td>0.013349</td>\n",
              "      <td>4</td>\n",
              "      <td>2</td>\n",
              "      <td>2</td>\n",
              "      <td>422</td>\n",
              "      <td>8</td>\n",
              "    </tr>\n",
              "    <tr>\n",
              "      <th>9</th>\n",
              "      <td>0.301766</td>\n",
              "      <td>677.585534</td>\n",
              "      <td>0.008735</td>\n",
              "      <td>3</td>\n",
              "      <td>2</td>\n",
              "      <td>3</td>\n",
              "      <td>323</td>\n",
              "      <td>8</td>\n",
              "    </tr>\n",
              "    <tr>\n",
              "      <th>10</th>\n",
              "      <td>1.651350</td>\n",
              "      <td>5060.786306</td>\n",
              "      <td>0.008125</td>\n",
              "      <td>3</td>\n",
              "      <td>1</td>\n",
              "      <td>4</td>\n",
              "      <td>314</td>\n",
              "      <td>8</td>\n",
              "    </tr>\n",
              "  </tbody>\n",
              "</table>\n",
              "</div>"
            ],
            "text/plain": [
              "     Recency     Monetary  Frequency  R_Quartile  F_Quartile  M_Quartile  \\\n",
              "2   1.974931  1183.055334   0.014989           2           2           3   \n",
              "6   0.317036  2552.675781   0.007002           3           1           4   \n",
              "7   0.069806   168.884932   0.013349           4           2           2   \n",
              "9   0.301766   677.585534   0.008735           3           2           3   \n",
              "10  1.651350  5060.786306   0.008125           3           1           4   \n",
              "\n",
              "   RFMScore  RFMScore_num  \n",
              "2       223             7  \n",
              "6       314             8  \n",
              "7       422             8  \n",
              "9       323             8  \n",
              "10      314             8  "
            ]
          },
          "execution_count": 126,
          "metadata": {},
          "output_type": "execute_result"
        }
      ],
      "source": [
        "rfm_segmentation['RFMScore_num'] = rfm_segmentation.R_Quartile \\\n",
        "                            + rfm_segmentation.F_Quartile \\\n",
        "                            + rfm_segmentation.M_Quartile\n",
        "rfm_segmentation.head()"
      ]
    },
    {
      "cell_type": "code",
      "execution_count": 127,
      "metadata": {},
      "outputs": [],
      "source": [
        "dfs=[rfm_providers,rfm_customers,rfm_satisfaction,rfm_payment,rfm_segmentation]\n",
        "for df in dfs:\n",
        "    df.reset_index(drop=True, inplace=True)"
      ]
    },
    {
      "cell_type": "code",
      "execution_count": 129,
      "metadata": {},
      "outputs": [],
      "source": [
        "merged_df = dfs[0]\n",
        "\n",
        "# Merge the remaining dataframes on index one by one\n",
        "for df in dfs[1:]:\n",
        "    merged_df = pd.merge(merged_df, df, left_index=True, right_index=True)"
      ]
    },
    {
      "cell_type": "code",
      "execution_count": 131,
      "metadata": {},
      "outputs": [],
      "source": [
        "#Saving the feature engineering results as CSV file\n",
        "merged_df.to_csv(Path(\"..\",\"data\",\"rfm_segmentation.csv\"),index=False)"
      ]
    }
  ],
  "metadata": {
    "colab": {
      "collapsed_sections": [
        "HTvVDISRDZaz"
      ],
      "provenance": []
    },
    "kernelspec": {
      "display_name": "Python 3",
      "language": "python",
      "name": "python3"
    },
    "language_info": {
      "codemirror_mode": {
        "name": "ipython",
        "version": 3
      },
      "file_extension": ".py",
      "mimetype": "text/x-python",
      "name": "python",
      "nbconvert_exporter": "python",
      "pygments_lexer": "ipython3",
      "version": "3.10.7"
    },
    "vscode": {
      "interpreter": {
        "hash": "f98203001e58baa8dd805f4f824c01d24cf230d8084a9dc5f93a566aa83d4eb4"
      }
    }
  },
  "nbformat": 4,
  "nbformat_minor": 0
}
