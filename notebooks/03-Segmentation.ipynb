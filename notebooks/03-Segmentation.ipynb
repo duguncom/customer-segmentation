{
  "cells": [
    {
      "cell_type": "code",
      "execution_count": 6,
      "metadata": {
        "colab": {
          "base_uri": "https://localhost:8080/"
        },
        "id": "OX4jmyNSdvef",
        "outputId": "b99abca8-6cb9-49df-c380-aae39d879fd8"
      },
      "outputs": [],
      "source": [
        "import sys\n",
        "import os\n",
        "import datetime\n",
        "#Loading utils for required funcs\n",
        "%run {os.path.join('..', 'src', 'utils.py')}"
      ]
    },
    {
      "attachments": {},
      "cell_type": "markdown",
      "metadata": {},
      "source": [
        "## RFM\n",
        "##### Recency, Frequency, Monetary value (RFM) is a model used in marketing analysis that segments a company's consumer base by their purchasing patterns or habits. In particular, it evaluates customers Recency (how long ago they made a purchase), Frequency (how often they make purchases), and Monetary value (how much money they spend).\n"
      ]
    },
    {
      "cell_type": "code",
      "execution_count": null,
      "metadata": {},
      "outputs": [],
      "source": [
        "#read our dataset\n",
        "rfm_data = pd.read_csv(os.path.join(\"..\",\"data\",\"potentials.csv\"))"
      ]
    },
    {
      "attachments": {},
      "cell_type": "markdown",
      "metadata": {},
      "source": [
        "###  Step 1 - > Recency"
      ]
    },
    {
      "cell_type": "code",
      "execution_count": 7,
      "metadata": {},
      "outputs": [],
      "source": [
        "#we will count information until today\n",
        "reference_date = datetime.datetime.today().date()"
      ]
    },
    {
      "cell_type": "code",
      "execution_count": 10,
      "metadata": {},
      "outputs": [],
      "source": [
        "# creating extra columns\n",
        "rfm_data['hours_since_last_update'] = (pd.to_datetime(reference_date) - pd.to_datetime(rfm_data['last_update_at'])).astype('timedelta64[h]')\n",
        "rfm_data['months_since_product_started'] = round((reference_date.year - pd.to_datetime(rfm_data['product_started_at']).dt.year) * 12 + (reference_date.month - pd.to_datetime(rfm_data['product_started_at']).dt.month))\n",
        "rfm_data['days_since_last_call'] = (pd.to_datetime(reference_date) - pd.to_datetime(rfm_data['last_call'])).astype('timedelta64[D]')\n",
        "rfm_data['days_since_last_touch'] = (pd.to_datetime(reference_date) - pd.to_datetime(rfm_data['last_touch'])).astype('timedelta64[D]')\n",
        "rfm_data['days_since_last_seen'] = (pd.to_datetime(reference_date) - pd.to_datetime(rfm_data['last_seen_at'])).astype('timedelta64[D]')"
      ]
    },
    {
      "cell_type": "code",
      "execution_count": 12,
      "metadata": {},
      "outputs": [],
      "source": [
        "rfm_data.drop(['last_update_at', 'product_started_at', 'last_call', 'last_touch', 'last_seen_at'], axis=1, inplace=True)"
      ]
    },
    {
      "attachments": {},
      "cell_type": "markdown",
      "metadata": {},
      "source": [
        "### Step 2 - > Frequency Part-Monetary Part\n",
        "##### For **frequency**, we can use the following  : *lead_count*,*view_count*, *call_count* and *touch_count* and for **Monetary** our necessary columns will be : *budget_value*,*current_product_price*"
      ]
    },
    {
      "cell_type": "code",
      "execution_count": 16,
      "metadata": {},
      "outputs": [],
      "source": [
        "rfm_data = rfm_data[['provider_id', 'lead_count','view_count',\n",
        "                    'budget_value','current_products_price', 'touch_count','call_count', 'hours_since_last_update', \n",
        "                    'months_since_product_started','days_since_last_call', 'days_since_last_touch','days_since_last_seen']]"
      ]
    },
    {
      "cell_type": "code",
      "execution_count": 17,
      "metadata": {},
      "outputs": [
        {
          "data": {
            "text/html": [
              "<div>\n",
              "<style scoped>\n",
              "    .dataframe tbody tr th:only-of-type {\n",
              "        vertical-align: middle;\n",
              "    }\n",
              "\n",
              "    .dataframe tbody tr th {\n",
              "        vertical-align: top;\n",
              "    }\n",
              "\n",
              "    .dataframe thead th {\n",
              "        text-align: right;\n",
              "    }\n",
              "</style>\n",
              "<table border=\"1\" class=\"dataframe\">\n",
              "  <thead>\n",
              "    <tr style=\"text-align: right;\">\n",
              "      <th></th>\n",
              "      <th>provider_id</th>\n",
              "      <th>lead_count</th>\n",
              "      <th>view_count</th>\n",
              "      <th>budget_value</th>\n",
              "      <th>current_products_price</th>\n",
              "      <th>touch_count</th>\n",
              "      <th>call_count</th>\n",
              "      <th>hours_since_last_update</th>\n",
              "      <th>months_since_product_started</th>\n",
              "      <th>days_since_last_call</th>\n",
              "      <th>days_since_last_touch</th>\n",
              "      <th>days_since_last_seen</th>\n",
              "    </tr>\n",
              "  </thead>\n",
              "  <tbody>\n",
              "    <tr>\n",
              "      <th>0</th>\n",
              "      <td>68</td>\n",
              "      <td>834</td>\n",
              "      <td>10998</td>\n",
              "      <td>2250.0</td>\n",
              "      <td>0.0</td>\n",
              "      <td>18</td>\n",
              "      <td>9</td>\n",
              "      <td>1211.0</td>\n",
              "      <td>10</td>\n",
              "      <td>51.0</td>\n",
              "      <td>51.0</td>\n",
              "      <td>42.0</td>\n",
              "    </tr>\n",
              "    <tr>\n",
              "      <th>1</th>\n",
              "      <td>88</td>\n",
              "      <td>196</td>\n",
              "      <td>1513</td>\n",
              "      <td>875.0</td>\n",
              "      <td>0.0</td>\n",
              "      <td>12</td>\n",
              "      <td>5</td>\n",
              "      <td>2746.0</td>\n",
              "      <td>4</td>\n",
              "      <td>43.0</td>\n",
              "      <td>43.0</td>\n",
              "      <td>42.0</td>\n",
              "    </tr>\n",
              "  </tbody>\n",
              "</table>\n",
              "</div>"
            ],
            "text/plain": [
              "   provider_id  lead_count  view_count  budget_value  current_products_price  \\\n",
              "0           68         834       10998        2250.0                     0.0   \n",
              "1           88         196        1513         875.0                     0.0   \n",
              "\n",
              "   touch_count  call_count  hours_since_last_update  \\\n",
              "0           18           9                   1211.0   \n",
              "1           12           5                   2746.0   \n",
              "\n",
              "   months_since_product_started  days_since_last_call  days_since_last_touch  \\\n",
              "0                            10                  51.0                   51.0   \n",
              "1                             4                  43.0                   43.0   \n",
              "\n",
              "   days_since_last_seen  \n",
              "0                  42.0  \n",
              "1                  42.0  "
            ]
          },
          "execution_count": 17,
          "metadata": {},
          "output_type": "execute_result"
        }
      ],
      "source": [
        "#our finalized dataframe to work on can be seen here: \n",
        "rfm_data.head(2)"
      ]
    },
    {
      "cell_type": "code",
      "execution_count": null,
      "metadata": {},
      "outputs": [],
      "source": [
        "def create_recency_val():\n",
        "    \"\"\"\n",
        "    this function will be using recency based columns to create a recency score\n",
        "    \"\"\"\n",
        "    rfm_data['Recency'] = \n",
        "    return"
      ]
    },
    {
      "cell_type": "code",
      "execution_count": null,
      "metadata": {},
      "outputs": [],
      "source": [
        "def create_frequency_val():\n",
        "    \"\"\"\n",
        "    this function will be using frequency based columns to create a recency score\n",
        "    \"\"\"\n",
        "    rfm_data['Frequency'] = \n",
        "    return"
      ]
    },
    {
      "cell_type": "code",
      "execution_count": null,
      "metadata": {},
      "outputs": [],
      "source": [
        "def create_monetary_val():\n",
        "    \"\"\"\n",
        "    this function will be using frequency based columns to create a recency score\n",
        "    \"\"\"\n",
        "    rfm_data['Monetary'] = \n",
        "    return"
      ]
    },
    {
      "cell_type": "code",
      "execution_count": null,
      "metadata": {},
      "outputs": [],
      "source": [
        "#now let's create our final RFM dataset to evaluate :\n",
        "rfm_data = rfm_data[[\"provider_id\",\"Recency\",\"Monetary\",\"Frequency\"]]"
      ]
    },
    {
      "cell_type": "code",
      "execution_count": null,
      "metadata": {},
      "outputs": [],
      "source": [
        "quantiles = rfm_data.quantile(q=[0.25,0.5,0.75])\n",
        "quantiles"
      ]
    },
    {
      "cell_type": "code",
      "execution_count": null,
      "metadata": {},
      "outputs": [],
      "source": [
        "quantiles.to_dict()"
      ]
    },
    {
      "cell_type": "code",
      "execution_count": null,
      "metadata": {},
      "outputs": [],
      "source": [
        "def RScore(x,p,d):\n",
        "    if x <= d[p][0.25]:\n",
        "        return 4\n",
        "    elif x <= d[p][0.50]:\n",
        "        return 3\n",
        "    elif x <= d[p][0.75]: \n",
        "        return 2\n",
        "    else:\n",
        "        return 1\n",
        "def FMScore(x,p,d):\n",
        "    if x <= d[p][0.25]:\n",
        "        return 1\n",
        "    elif x <= d[p][0.50]:\n",
        "        return 2\n",
        "    elif x <= d[p][0.75]: \n",
        "        return 3\n",
        "    else:\n",
        "        return 4"
      ]
    },
    {
      "cell_type": "code",
      "execution_count": null,
      "metadata": {},
      "outputs": [],
      "source": [
        "rfm_segmentation = rfm_data\n",
        "rfm_segmentation['R_Quartile'] = rfm_segmentation['Recency'].apply(RScore, args=('Recency',quantiles,))\n",
        "rfm_segmentation['F_Quartile'] = rfm_segmentation['Frequency'].apply(FMScore, args=('Frequency',quantiles,))\n",
        "rfm_segmentation['M_Quartile'] = rfm_segmentation['Monetary'].apply(FMScore, args=('Monetary',quantiles,))"
      ]
    },
    {
      "cell_type": "code",
      "execution_count": null,
      "metadata": {},
      "outputs": [],
      "source": [
        "rfm_segmentation.head()"
      ]
    },
    {
      "cell_type": "code",
      "execution_count": null,
      "metadata": {},
      "outputs": [],
      "source": [
        "rfm_segmentation['RFMScore'] = rfm_segmentation.R_Quartile.map(str) \\\n",
        "                            + rfm_segmentation.F_Quartile.map(str) \\\n",
        "                            + rfm_segmentation.M_Quartile.map(str)\n",
        "rfm_segmentation.head()"
      ]
    },
    {
      "cell_type": "code",
      "execution_count": null,
      "metadata": {},
      "outputs": [],
      "source": [
        "rfm_segmentation['RFMScore_num'] = rfm_segmentation.R_Quartile \\\n",
        "                            + rfm_segmentation.F_Quartile \\\n",
        "                            + rfm_segmentation.M_Quartile\n",
        "rfm_segmentation.head()"
      ]
    },
    {
      "cell_type": "code",
      "execution_count": null,
      "metadata": {},
      "outputs": [],
      "source": [
        "rfm_segmentation.RFMScore.nunique()"
      ]
    },
    {
      "cell_type": "code",
      "execution_count": null,
      "metadata": {},
      "outputs": [],
      "source": [
        "#Saving the feature engineering results as CSV file\n",
        "rfm_segmentation.to_csv(Path(\"..\",\"data\",\"rfm_segmentation.csv\"),index=False)"
      ]
    }
  ],
  "metadata": {
    "colab": {
      "collapsed_sections": [
        "HTvVDISRDZaz"
      ],
      "provenance": []
    },
    "kernelspec": {
      "display_name": "Python 3",
      "language": "python",
      "name": "python3"
    },
    "language_info": {
      "codemirror_mode": {
        "name": "ipython",
        "version": 3
      },
      "file_extension": ".py",
      "mimetype": "text/x-python",
      "name": "python",
      "nbconvert_exporter": "python",
      "pygments_lexer": "ipython3",
      "version": "3.10.7"
    },
    "vscode": {
      "interpreter": {
        "hash": "f98203001e58baa8dd805f4f824c01d24cf230d8084a9dc5f93a566aa83d4eb4"
      }
    }
  },
  "nbformat": 4,
  "nbformat_minor": 0
}
