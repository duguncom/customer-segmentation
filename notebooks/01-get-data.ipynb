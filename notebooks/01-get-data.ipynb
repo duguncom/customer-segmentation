{
 "cells": [
  {
   "cell_type": "code",
   "execution_count": 4,
   "metadata": {},
   "outputs": [],
   "source": [
    "import os\n",
    "#Loading utils for required funcs\n",
    "%run {os.path.join('..', 'src', 'utils.py')}"
   ]
  },
  {
   "cell_type": "code",
   "execution_count": 5,
   "metadata": {},
   "outputs": [
    {
     "name": "stdout",
     "output_type": "stream",
     "text": [
      "['potentials']\n"
     ]
    }
   ],
   "source": [
    "#Reading all the sql files and listing them\n",
    "directory = config.SQL_DIR \n",
    "sql_list_name = []\n",
    "sql_list = [f for f in os.listdir(directory) if f.endswith(\"sql\")]\n",
    "for i in range(len(sql_list)):\n",
    "    sql_list_name.append(str(sql_list[i]).rsplit( \".\", 1 )[ 0 ])\n",
    "\n",
    "print(sql_list_name)"
   ]
  },
  {
   "cell_type": "code",
   "execution_count": 6,
   "metadata": {},
   "outputs": [
    {
     "name": "stdout",
     "output_type": "stream",
     "text": [
      "done\n"
     ]
    }
   ],
   "source": [
    "#Saving SQL files output as Pandas in bulk mode\n",
    "get_data(sql_list_name,directory=config.SQL_DIR)"
   ]
  }
 ],
 "metadata": {
  "kernelspec": {
   "display_name": "Python 3.10.7 ('churn')",
   "language": "python",
   "name": "python3"
  },
  "language_info": {
   "codemirror_mode": {
    "name": "ipython",
    "version": 3
   },
   "file_extension": ".py",
   "mimetype": "text/x-python",
   "name": "python",
   "nbconvert_exporter": "python",
   "pygments_lexer": "ipython3",
   "version": "3.10.7"
  },
  "orig_nbformat": 4,
  "vscode": {
   "interpreter": {
    "hash": "b562acd4093c578a5ac8a65464674cf7ca1e9655cd5233c943273c4013c6757c"
   }
  }
 },
 "nbformat": 4,
 "nbformat_minor": 2
}
